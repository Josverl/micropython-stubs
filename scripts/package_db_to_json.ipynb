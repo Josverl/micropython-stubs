{
 "cells": [
  {
   "cell_type": "code",
   "execution_count": null,
   "metadata": {},
   "outputs": [],
   "source": [
    "# Configure logging to output to the notebook\n",
    "import logging\n",
    "\n",
    "logging.basicConfig(level=logging.INFO, format=\"%(levelname)s - %(message)s\")\n",
    "log = logging.getLogger()"
   ]
  },
  {
   "cell_type": "code",
   "execution_count": 3,
   "metadata": {},
   "outputs": [],
   "source": [
    "import sqlite3\n",
    "from pathlib import Path\n",
    "\n",
    "\n",
    "db_path = Path(\"../data/all_packages.db\")\n",
    "if not db_path.exists():\n",
    "    raise FileNotFoundError(\"Database file not found\")\n",
    "\n",
    "conn = sqlite3.connect(db_path)\n",
    "cursor = conn.cursor()"
   ]
  },
  {
   "cell_type": "code",
   "execution_count": 4,
   "metadata": {},
   "outputs": [
    {
     "name": "stderr",
     "output_type": "stream",
     "text": [
      "INFO - found 75 unique stub/version combinations\n"
     ]
    }
   ],
   "source": [
    "SHORT_LIST = \"\"\"\n",
    "SELECT DISTINCT name, mpy_version, port, board, variant FROM packages \n",
    "    where publish == TRUE\n",
    "    AND mpy_version NOT LIKE '%-preview%'\n",
    "    order by mpy_version DESC, name\n",
    "\"\"\"\n",
    "cursor.execute(SHORT_LIST)\n",
    "stublist = cursor.fetchall()\n",
    "\n",
    "log.info(f\"found {len(stublist)} unique stub/version combinations\")"
   ]
  },
  {
   "cell_type": "code",
   "execution_count": 5,
   "metadata": {},
   "outputs": [],
   "source": [
    "import json\n",
    "from pathlib import Path\n",
    "\n",
    "schema = \"https://raw.githubusercontent.com/Josverl/micropython-stubber/main/data/schema/packages-v1.0.0.json\"\n",
    "output = {\"$schema\": schema, \"packages\": stublist}\n",
    "\n",
    "with open(\"../data/stub-packages.json\", \"w\") as f:\n",
    "    json.dump(output, f, indent=4)"
   ]
  },
  {
   "cell_type": "code",
   "execution_count": null,
   "metadata": {
    "vscode": {
     "languageId": "javascript"
    }
   },
   "outputs": [],
   "source": []
  }
 ],
 "metadata": {
  "kernelspec": {
   "display_name": ".venv",
   "language": "python",
   "name": "python3"
  },
  "language_info": {
   "codemirror_mode": {
    "name": "ipython",
    "version": 3
   },
   "file_extension": ".py",
   "mimetype": "text/x-python",
   "name": "python",
   "nbconvert_exporter": "python",
   "pygments_lexer": "ipython3",
   "version": "3.11.9"
  }
 },
 "nbformat": 4,
 "nbformat_minor": 2
}

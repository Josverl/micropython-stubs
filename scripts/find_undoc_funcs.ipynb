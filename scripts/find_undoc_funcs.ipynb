{
 "cells": [
  {
   "cell_type": "markdown",
   "metadata": {},
   "source": [
    "# Finding Notebook Location\n",
    "\n",
    "When working in Jupyter notebooks, `__file__` is not available. Here are several methods to find the notebook's location:"
   ]
  },
  {
   "cell_type": "code",
   "execution_count": 13,
   "metadata": {},
   "outputs": [],
   "source": [
    "# Method 2: Using os.getcwd() and manual path construction\n",
    "from pathlib import Path\n",
    "\n",
    "# Get current working directory\n",
    "current_dir = Path.cwd()\n",
    "# Since this notebook is in the scripts folder, we can go up one level\n",
    "ROOT = current_dir.parent if current_dir.name == \"scripts\" else current_dir"
   ]
  },
  {
   "cell_type": "code",
   "execution_count": 14,
   "metadata": {},
   "outputs": [
    {
     "name": "stdout",
     "output_type": "stream",
     "text": [
      "Found 103 merged folders\n"
     ]
    }
   ],
   "source": [
    "# list of all -merged folders in stubs\n",
    "merged_folders = [x for x in (ROOT / \"stubs\").iterdir() if x.is_dir() and \"-merged\" in x.name]\n",
    "print(f\"Found {len(merged_folders)} merged folders\")"
   ]
  },
  {
   "cell_type": "code",
   "execution_count": 15,
   "metadata": {},
   "outputs": [],
   "source": [
    "# NO_DOCS = [\"(self, *args, **kwargs)\", \"(cls, *args, **kwargs)\", \"(*args, **kwargs)\"]\n",
    "\n",
    "\n",
    "# def scan_py_file(pyi: Path):\n",
    "#     with pyi.open(encoding=\"utf-8\") as f:\n",
    "#         line_no = 0\n",
    "#         for line in f:\n",
    "#             line_no += 1\n",
    "#             if any(x in line for x in NO_DOCS):\n",
    "#                 yield pyi, line, line_no\n",
    "\n",
    "\n",
    "# def scan_folder(folder: Path):\n",
    "#     for pyi in folder.glob(\"*.pyi\"):\n",
    "#         # if py.stem in (\"umachine\", \"utime\", \"uos\",\"uhashlib\",\"ucollections\",\"uio\",\"ujson\",\"ure\",\"ussl\",\"usocket\",\"usys\",\"utime\",\"uzlib\"):\n",
    "#         #     continue\n",
    "#         yield scan_py_file(pyi)"
   ]
  },
  {
   "cell_type": "code",
   "execution_count": 16,
   "metadata": {},
   "outputs": [],
   "source": [
    "# not_found = {}\n",
    "\n",
    "# for folder in merged_folders:\n",
    "#     if \"1_26_0\" in folder.name:\n",
    "#         print(folder.name)\n",
    "#         for result in scan_folder(folder):\n",
    "#             for file, line, line_no in result:\n",
    "#                 # append line to dict of lines\n",
    "#                 line = line.strip()\n",
    "#                 not_found.setdefault(line, []).append((file, line_no))"
   ]
  },
  {
   "cell_type": "code",
   "execution_count": 17,
   "metadata": {},
   "outputs": [],
   "source": [
    "# # write the output to a file\n",
    "\n",
    "# with open(\"not_found.txt\", \"w\") as fp:\n",
    "#     for k in not_found.keys():\n",
    "#         fp.write(\"----------------------------------------------------------\\n\")\n",
    "#         fp.write(f\"{k}\\n\")\n",
    "#         for f in not_found[k]:\n",
    "#             fp.write(f\"  -  {f[0]}:{f[1]}\\n\")\n",
    "#         fp.write(\"\\n\")"
   ]
  },
  {
   "cell_type": "code",
   "execution_count": 18,
   "metadata": {},
   "outputs": [],
   "source": [
    "# from collections import Counter\n",
    "# import re\n",
    "\n",
    "# # Extract file stems and count occurrences\n",
    "# file_stems = []\n",
    "# for files_list in not_found.values():\n",
    "#     for file_info, _ in files_list:\n",
    "#         # Extract the stem (filename without extension)\n",
    "#         stem = file_info.stem\n",
    "#         file_stems.append(stem)\n",
    "\n",
    "# # Count the occurrences\n",
    "# stem_counts = Counter(file_stems)\n",
    "\n",
    "# # Create a sorted list of (stem, count) tuples, sorted by count in descending order\n",
    "# sorted_stems = sorted(stem_counts.items(), key=lambda x: x[1], reverse=True)\n",
    "\n",
    "# # Display the results in a formatted table\n",
    "# print(f\"{'Module':<30} | {'Count':<10}\")\n",
    "# print(f\"{'-' * 30} | {'-' * 10}\")\n",
    "# for stem, count in sorted_stems:\n",
    "#     print(f\"{stem:<30} | {count:<10}\")\n",
    "\n",
    "# # Print summary\n",
    "# print(f\"\\nTotal unique modules: {len(sorted_stems)}\")\n",
    "# print(f\"Total occurrences: {sum(stem_counts.values())}\")"
   ]
  },
  {
   "cell_type": "code",
   "execution_count": 19,
   "metadata": {},
   "outputs": [
    {
     "name": "stdout",
     "output_type": "stream",
     "text": [
      "Testing libcst-based function scanner...\n"
     ]
    }
   ],
   "source": [
    "import libcst as cst\n",
    "from pathlib import Path\n",
    "from dataclasses import dataclass\n",
    "from typing import List, Generator, Optional, Union\n",
    "\n",
    "\n",
    "@dataclass\n",
    "class FunctionInfo:\n",
    "    \"\"\"Information about a function or method that uses *args, **kwargs\"\"\"\n",
    "\n",
    "    filename: Path\n",
    "    line_number: int\n",
    "    module_name: str\n",
    "    class_context: Optional[str]\n",
    "    function_name: str\n",
    "    function_type: str  # 'function' or 'method'\n",
    "    signature: str\n",
    "    has_args: bool\n",
    "    has_kwargs: bool\n",
    "\n",
    "\n",
    "class FunctionVisitor(cst.CSTVisitor):\n",
    "    \"\"\"LibCST visitor to find functions and methods with *args, **kwargs\"\"\"\n",
    "\n",
    "    def __init__(self, filename: Path):\n",
    "        self.filename = filename\n",
    "        self.module_name = filename.stem\n",
    "        self.functions: List[FunctionInfo] = []\n",
    "        self.class_stack: List[str] = []\n",
    "\n",
    "    def visit_ClassDef(self, node: cst.ClassDef) -> Optional[bool]:\n",
    "        \"\"\"Track class context\"\"\"\n",
    "        class_name = node.name.value\n",
    "        self.class_stack.append(class_name)\n",
    "        return None\n",
    "\n",
    "    def leave_ClassDef(self, node: cst.ClassDef) -> None:\n",
    "        \"\"\"Exit class context\"\"\"\n",
    "        self.class_stack.pop()\n",
    "\n",
    "    def visit_FunctionDef(self, node: cst.FunctionDef) -> Optional[bool]:\n",
    "        \"\"\"Visit function definitions\"\"\"\n",
    "        function_name = node.name.value\n",
    "\n",
    "        # Check if function has *args, **kwargs\n",
    "        has_args = False\n",
    "        has_kwargs = False\n",
    "\n",
    "        if node.params:\n",
    "            # Check for *args\n",
    "            if node.params.star_arg and isinstance(node.params.star_arg, cst.Param):\n",
    "                if node.params.star_arg.name.value in (\"args\", \"*args\"):\n",
    "                    has_args = True\n",
    "\n",
    "            # Check for **kwargs\n",
    "            if node.params.star_kwarg and isinstance(node.params.star_kwarg, cst.Param):\n",
    "                if node.params.star_kwarg.name.value in (\"kwargs\", \"**kwargs\"):\n",
    "                    has_kwargs = True\n",
    "\n",
    "        # Only process functions that have *args or **kwargs (or both)\n",
    "        if has_args or has_kwargs:\n",
    "            # Get line number\n",
    "            line_number = getattr(node, \"lineno\", 0)\n",
    "\n",
    "            # Determine if it's a method or function\n",
    "            is_method = len(self.class_stack) > 0\n",
    "            function_type = \"method\" if is_method else \"function\"\n",
    "\n",
    "            # Get class context\n",
    "            class_context = \".\".join(self.class_stack) if self.class_stack else None\n",
    "\n",
    "            # Build signature string\n",
    "            signature = self._build_signature_string(node)\n",
    "\n",
    "            function_info = FunctionInfo(\n",
    "                filename=self.filename,\n",
    "                line_number=line_number,\n",
    "                module_name=self.module_name,\n",
    "                class_context=class_context,\n",
    "                function_name=function_name,\n",
    "                function_type=function_type,\n",
    "                signature=signature,\n",
    "                has_args=has_args,\n",
    "                has_kwargs=has_kwargs,\n",
    "            )\n",
    "\n",
    "            self.functions.append(function_info)\n",
    "\n",
    "        return None\n",
    "\n",
    "    def _build_signature_string(self, node: cst.FunctionDef) -> str:\n",
    "        \"\"\"Build a readable signature string\"\"\"\n",
    "        params = []\n",
    "\n",
    "        if node.params:\n",
    "            # Regular parameters\n",
    "            for param in node.params.params:\n",
    "                params.append(param.name.value)\n",
    "\n",
    "            # *args parameter\n",
    "            if node.params.star_arg:\n",
    "                if isinstance(node.params.star_arg, cst.Param):\n",
    "                    params.append(f\"*{node.params.star_arg.name.value}\")\n",
    "                else:\n",
    "                    params.append(\"*\")\n",
    "\n",
    "            # Keyword-only parameters\n",
    "            for param in node.params.kwonly_params:\n",
    "                params.append(param.name.value)\n",
    "\n",
    "            # **kwargs parameter\n",
    "            if node.params.star_kwarg:\n",
    "                params.append(f\"**{node.params.star_kwarg.name.value}\")\n",
    "\n",
    "        return f\"({', '.join(params)})\"\n",
    "\n",
    "\n",
    "def scan_stub_file_with_libcst(pyi_file: Path) -> Generator[FunctionInfo, None, None]:\n",
    "    \"\"\"Scan a single .pyi file using libcst to find functions with *args, **kwargs\"\"\"\n",
    "    try:\n",
    "        with pyi_file.open(encoding=\"utf-8\") as f:\n",
    "            content = f.read()\n",
    "\n",
    "        # Parse the file with libcst\n",
    "        tree = cst.parse_module(content)\n",
    "\n",
    "        # Create visitor and traverse the tree\n",
    "        visitor = FunctionVisitor(pyi_file)\n",
    "        tree.visit(visitor)\n",
    "\n",
    "        # Yield all found functions\n",
    "        for func_info in visitor.functions:\n",
    "            yield func_info\n",
    "\n",
    "    except Exception as e:\n",
    "        print(f\"Error parsing {pyi_file}: {e}\")\n",
    "\n",
    "\n",
    "def scan_folder_with_libcst(folder: Path) -> Generator[FunctionInfo, None, None]:\n",
    "    \"\"\"Scan all .pyi files in a folder using libcst\"\"\"\n",
    "    for pyi_file in folder.glob(\"*.pyi\"):\n",
    "        yield from scan_stub_file_with_libcst(pyi_file)\n",
    "\n",
    "\n",
    "# Test the new libcst-based approach\n",
    "print(\"Testing libcst-based function scanner...\")"
   ]
  },
  {
   "cell_type": "code",
   "execution_count": 20,
   "metadata": {},
   "outputs": [
    {
     "name": "stdout",
     "output_type": "stream",
     "text": [
      "\n",
      "Scanning folder: micropython-v1_26_0-esp32-ESP32_GENERIC-merged\n",
      "  Found: aioespnow.AIOESPNowpeer_count\n",
      "  Found: aioespnow.AIOESPNowrecv\n",
      "  Found: aioespnow.AIOESPNowmod_peer\n",
      "  Found: aioespnow.AIOESPNowirecv\n",
      "  Found: aioespnow.AIOESPNowstats\n",
      "  Total functions found in micropython-v1_26_0-esp32-ESP32_GENERIC-merged: 302\n",
      "\n",
      "Scanning folder: micropython-v1_26_0-esp32-ESP32_GENERIC_C6-merged\n",
      "  Found: aioespnow.AIOESPNowpeer_count\n",
      "  Found: aioespnow.AIOESPNowrecv\n",
      "  Found: aioespnow.AIOESPNowmod_peer\n",
      "  Found: aioespnow.AIOESPNowirecv\n",
      "  Found: aioespnow.AIOESPNowstats\n",
      "  Total functions found in micropython-v1_26_0-esp32-ESP32_GENERIC-merged: 302\n",
      "\n",
      "Scanning folder: micropython-v1_26_0-esp32-ESP32_GENERIC_C6-merged\n",
      "  Found: aioespnow.AIOESPNowpeer_count\n",
      "  Found: aioespnow.AIOESPNowrecv\n",
      "  Found: aioespnow.AIOESPNowmod_peer\n",
      "  Found: aioespnow.AIOESPNowirecv\n",
      "  Found: aioespnow.AIOESPNowstats\n",
      "  Total functions found in micropython-v1_26_0-esp32-ESP32_GENERIC_C6-merged: 298\n",
      "\n",
      "Scanning folder: micropython-v1_26_0-esp32-ESP32_GENERIC_S2-merged\n",
      "  Found: aioespnow.AIOESPNowpeer_count\n",
      "  Found: aioespnow.AIOESPNowrecv\n",
      "  Found: aioespnow.AIOESPNowmod_peer\n",
      "  Found: aioespnow.AIOESPNowirecv\n",
      "  Found: aioespnow.AIOESPNowstats\n",
      "  Total functions found in micropython-v1_26_0-esp32-ESP32_GENERIC_C6-merged: 298\n",
      "\n",
      "Scanning folder: micropython-v1_26_0-esp32-ESP32_GENERIC_S2-merged\n",
      "  Found: aioespnow.AIOESPNowpeer_count\n",
      "  Found: aioespnow.AIOESPNowrecv\n",
      "  Found: aioespnow.AIOESPNowmod_peer\n",
      "  Found: aioespnow.AIOESPNowirecv\n",
      "  Found: aioespnow.AIOESPNowstats\n",
      "  Total functions found in micropython-v1_26_0-esp32-ESP32_GENERIC_S2-merged: 304\n",
      "\n",
      "Scanning folder: micropython-v1_26_0-esp32-ESP32_GENERIC_S3-merged\n",
      "  Found: aioespnow.AIOESPNowpeer_count\n",
      "  Found: aioespnow.AIOESPNowrecv\n",
      "  Found: aioespnow.AIOESPNowmod_peer\n",
      "  Found: aioespnow.AIOESPNowirecv\n",
      "  Found: aioespnow.AIOESPNowstats\n",
      "  Total functions found in micropython-v1_26_0-esp32-ESP32_GENERIC_S2-merged: 304\n",
      "\n",
      "Scanning folder: micropython-v1_26_0-esp32-ESP32_GENERIC_S3-merged\n",
      "  Found: aioespnow.AIOESPNowpeer_count\n",
      "  Found: aioespnow.AIOESPNowrecv\n",
      "  Found: aioespnow.AIOESPNowmod_peer\n",
      "  Found: aioespnow.AIOESPNowirecv\n",
      "  Found: aioespnow.AIOESPNowstats\n",
      "  Total functions found in micropython-v1_26_0-esp32-ESP32_GENERIC_S3-merged: 315\n",
      "\n",
      "Scanning folder: micropython-v1_26_0-esp8266-ESP8266_GENERIC-merged\n",
      "  Found: apa102.apa102_write\n",
      "  Found: apa102.NeoPixelwrite\n",
      "  Found: apa102.NeoPixelfill\n",
      "  Found: apa102.NeoPixel__init__\n",
      "  Found: apa102.APA102write\n",
      "  Total functions found in micropython-v1_26_0-esp32-ESP32_GENERIC_S3-merged: 315\n",
      "\n",
      "Scanning folder: micropython-v1_26_0-esp8266-ESP8266_GENERIC-merged\n",
      "  Found: apa102.apa102_write\n",
      "  Found: apa102.NeoPixelwrite\n",
      "  Found: apa102.NeoPixelfill\n",
      "  Found: apa102.NeoPixel__init__\n",
      "  Found: apa102.APA102write\n",
      "  Total functions found in micropython-v1_26_0-esp8266-ESP8266_GENERIC-merged: 238\n",
      "\n",
      "Scanning folder: micropython-v1_26_0-rp2-PIMORONI_PICOLIPO-merged\n",
      "  Found: deflate.DeflateIOreadline\n",
      "  Found: deflate.DeflateIOreadinto\n",
      "  Found: deflate.DeflateIOread\n",
      "  Found: deflate.DeflateIOclose\n",
      "  Found: dht.dht_readinto\n",
      "  Total functions found in micropython-v1_26_0-esp8266-ESP8266_GENERIC-merged: 238\n",
      "\n",
      "Scanning folder: micropython-v1_26_0-rp2-PIMORONI_PICOLIPO-merged\n",
      "  Found: deflate.DeflateIOreadline\n",
      "  Found: deflate.DeflateIOreadinto\n",
      "  Found: deflate.DeflateIOread\n",
      "  Found: deflate.DeflateIOclose\n",
      "  Found: dht.dht_readinto\n",
      "  Total functions found in micropython-v1_26_0-rp2-PIMORONI_PICOLIPO-merged: 146\n",
      "\n",
      "Scanning folder: micropython-v1_26_0-rp2-RPI_PICO-merged\n",
      "  Found: deflate.DeflateIOreadline\n",
      "  Found: deflate.DeflateIOreadinto\n",
      "  Found: deflate.DeflateIOread\n",
      "  Found: deflate.DeflateIOclose\n",
      "  Found: dht.dht_readinto\n",
      "  Total functions found in micropython-v1_26_0-rp2-PIMORONI_PICOLIPO-merged: 146\n",
      "\n",
      "Scanning folder: micropython-v1_26_0-rp2-RPI_PICO-merged\n",
      "  Found: deflate.DeflateIOreadline\n",
      "  Found: deflate.DeflateIOreadinto\n",
      "  Found: deflate.DeflateIOread\n",
      "  Found: deflate.DeflateIOclose\n",
      "  Found: dht.dht_readinto\n",
      "  Total functions found in micropython-v1_26_0-rp2-RPI_PICO-merged: 146\n",
      "\n",
      "Scanning folder: micropython-v1_26_0-rp2-RPI_PICO2-merged\n",
      "  Found: deflate.DeflateIOreadline\n",
      "  Found: deflate.DeflateIOreadinto\n",
      "  Found: deflate.DeflateIOread\n",
      "  Found: deflate.DeflateIOclose\n",
      "  Found: dht.dht_readinto\n",
      "  Total functions found in micropython-v1_26_0-rp2-RPI_PICO-merged: 146\n",
      "\n",
      "Scanning folder: micropython-v1_26_0-rp2-RPI_PICO2-merged\n",
      "  Found: deflate.DeflateIOreadline\n",
      "  Found: deflate.DeflateIOreadinto\n",
      "  Found: deflate.DeflateIOread\n",
      "  Found: deflate.DeflateIOclose\n",
      "  Found: dht.dht_readinto\n",
      "  Total functions found in micropython-v1_26_0-rp2-RPI_PICO2-merged: 146\n",
      "\n",
      "Scanning folder: micropython-v1_26_0-rp2-RPI_PICO2_W-merged\n",
      "  Found: bluetooth.BLEconfig\n",
      "  Found: bluetooth.BLEconfig\n",
      "  Found: deflate.DeflateIOreadline\n",
      "  Found: deflate.DeflateIOreadinto\n",
      "  Found: deflate.DeflateIOread\n",
      "  Total functions found in micropython-v1_26_0-rp2-RPI_PICO2-merged: 146\n",
      "\n",
      "Scanning folder: micropython-v1_26_0-rp2-RPI_PICO2_W-merged\n",
      "  Found: bluetooth.BLEconfig\n",
      "  Found: bluetooth.BLEconfig\n",
      "  Found: deflate.DeflateIOreadline\n",
      "  Found: deflate.DeflateIOreadinto\n",
      "  Found: deflate.DeflateIOread\n",
      "  Total functions found in micropython-v1_26_0-rp2-RPI_PICO2_W-merged: 217\n",
      "\n",
      "Scanning folder: micropython-v1_26_0-rp2-RPI_PICO_W-merged\n",
      "  Found: bluetooth.BLEconfig\n",
      "  Found: bluetooth.BLEconfig\n",
      "  Found: deflate.DeflateIOreadline\n",
      "  Found: deflate.DeflateIOreadinto\n",
      "  Found: deflate.DeflateIOread\n",
      "  Total functions found in micropython-v1_26_0-rp2-RPI_PICO2_W-merged: 217\n",
      "\n",
      "Scanning folder: micropython-v1_26_0-rp2-RPI_PICO_W-merged\n",
      "  Found: bluetooth.BLEconfig\n",
      "  Found: bluetooth.BLEconfig\n",
      "  Found: deflate.DeflateIOreadline\n",
      "  Found: deflate.DeflateIOreadinto\n",
      "  Found: deflate.DeflateIOread\n",
      "  Total functions found in micropython-v1_26_0-rp2-RPI_PICO_W-merged: 217\n",
      "\n",
      "Scanning folder: micropython-v1_26_0-samd-SEEED_WIO_TERMINAL-merged\n",
      "  Found: deflate.DeflateIOreadinto\n",
      "  Found: deflate.DeflateIOreadline\n",
      "  Found: deflate.DeflateIOwrite\n",
      "  Found: deflate.DeflateIOread\n",
      "  Found: deflate.DeflateIOclose\n",
      "  Total functions found in micropython-v1_26_0-rp2-RPI_PICO_W-merged: 217\n",
      "\n",
      "Scanning folder: micropython-v1_26_0-samd-SEEED_WIO_TERMINAL-merged\n",
      "  Found: deflate.DeflateIOreadinto\n",
      "  Found: deflate.DeflateIOreadline\n",
      "  Found: deflate.DeflateIOwrite\n",
      "  Found: deflate.DeflateIOread\n",
      "  Found: deflate.DeflateIOclose\n",
      "  Total functions found in micropython-v1_26_0-samd-SEEED_WIO_TERMINAL-merged: 140\n",
      "\n",
      "Scanning folder: micropython-v1_26_0-stm32-PYBV11-merged\n",
      "  Found: deflate.DeflateIOreadline\n",
      "  Found: deflate.DeflateIOreadinto\n",
      "  Found: deflate.DeflateIOread\n",
      "  Found: deflate.DeflateIOclose\n",
      "  Found: dht.dht_readinto\n",
      "  Total functions found in micropython-v1_26_0-samd-SEEED_WIO_TERMINAL-merged: 140\n",
      "\n",
      "Scanning folder: micropython-v1_26_0-stm32-PYBV11-merged\n",
      "  Found: deflate.DeflateIOreadline\n",
      "  Found: deflate.DeflateIOreadinto\n",
      "  Found: deflate.DeflateIOread\n",
      "  Found: deflate.DeflateIOclose\n",
      "  Found: dht.dht_readinto\n",
      "  Total functions found in micropython-v1_26_0-stm32-PYBV11-merged: 190\n",
      "\n",
      "Total functions with *args/**kwargs found: 2659\n",
      "  Total functions found in micropython-v1_26_0-stm32-PYBV11-merged: 190\n",
      "\n",
      "Total functions with *args/**kwargs found: 2659\n"
     ]
    }
   ],
   "source": [
    "# Run the enhanced scanner on merged folders\n",
    "enhanced_results = []\n",
    "\n",
    "for folder in merged_folders:\n",
    "    if \"1_26_0\" in folder.name:\n",
    "        print(f\"\\nScanning folder: {folder.name}\")\n",
    "\n",
    "        count = 0\n",
    "        for func_info in scan_folder_with_libcst(folder):\n",
    "            enhanced_results.append(func_info)\n",
    "            count += 1\n",
    "\n",
    "            # Show first few results as examples\n",
    "            if count <= 5:\n",
    "                print(f\"  Found: {func_info.module_name}.{func_info.class_context or ''}{func_info.function_name}\")\n",
    "\n",
    "        print(f\"  Total functions found in {folder.name}: {count}\")\n",
    "\n",
    "print(f\"\\nTotal functions with *args/**kwargs found: {len(enhanced_results)}\")"
   ]
  },
  {
   "cell_type": "code",
   "execution_count": 26,
   "metadata": {},
   "outputs": [
    {
     "data": {
      "application/vnd.microsoft.datawrangler.viewer.v0+json": {
       "columns": [
        {
         "name": "index",
         "rawType": "int64",
         "type": "integer"
        },
        {
         "name": "Module",
         "rawType": "object",
         "type": "string"
        },
        {
         "name": "Class",
         "rawType": "object",
         "type": "string"
        },
        {
         "name": "Function",
         "rawType": "object",
         "type": "string"
        },
        {
         "name": "Full Name",
         "rawType": "object",
         "type": "string"
        },
        {
         "name": "Type",
         "rawType": "object",
         "type": "string"
        },
        {
         "name": "Signature",
         "rawType": "object",
         "type": "string"
        },
        {
         "name": "Has *args",
         "rawType": "bool",
         "type": "boolean"
        },
        {
         "name": "Has **kwargs",
         "rawType": "bool",
         "type": "boolean"
        },
        {
         "name": "Line",
         "rawType": "int64",
         "type": "integer"
        },
        {
         "name": "File",
         "rawType": "object",
         "type": "string"
        }
       ],
       "ref": "b749c9e5-dac6-451d-9cc5-bc6299ed2e2e",
       "rows": [
        [
         "0",
         "aioespnow",
         "AIOESPNow",
         "peer_count",
         "AIOESPNow.peer_count",
         "method",
         "(self, *args, **kwargs)",
         "True",
         "True",
         "0",
         "aioespnow.pyi"
        ],
        [
         "1",
         "aioespnow",
         "AIOESPNow",
         "recv",
         "AIOESPNow.recv",
         "method",
         "(self, *args, **kwargs)",
         "True",
         "True",
         "0",
         "aioespnow.pyi"
        ],
        [
         "2",
         "aioespnow",
         "AIOESPNow",
         "mod_peer",
         "AIOESPNow.mod_peer",
         "method",
         "(self, *args, **kwargs)",
         "True",
         "True",
         "0",
         "aioespnow.pyi"
        ],
        [
         "3",
         "aioespnow",
         "AIOESPNow",
         "irecv",
         "AIOESPNow.irecv",
         "method",
         "(self, *args, **kwargs)",
         "True",
         "True",
         "0",
         "aioespnow.pyi"
        ],
        [
         "4",
         "aioespnow",
         "AIOESPNow",
         "stats",
         "AIOESPNow.stats",
         "method",
         "(self, *args, **kwargs)",
         "True",
         "True",
         "0",
         "aioespnow.pyi"
        ]
       ],
       "shape": {
        "columns": 10,
        "rows": 5
       }
      },
      "text/html": [
       "<div>\n",
       "<style scoped>\n",
       "    .dataframe tbody tr th:only-of-type {\n",
       "        vertical-align: middle;\n",
       "    }\n",
       "\n",
       "    .dataframe tbody tr th {\n",
       "        vertical-align: top;\n",
       "    }\n",
       "\n",
       "    .dataframe thead th {\n",
       "        text-align: right;\n",
       "    }\n",
       "</style>\n",
       "<table border=\"1\" class=\"dataframe\">\n",
       "  <thead>\n",
       "    <tr style=\"text-align: right;\">\n",
       "      <th></th>\n",
       "      <th>Module</th>\n",
       "      <th>Class</th>\n",
       "      <th>Function</th>\n",
       "      <th>Full Name</th>\n",
       "      <th>Type</th>\n",
       "      <th>Signature</th>\n",
       "      <th>Has *args</th>\n",
       "      <th>Has **kwargs</th>\n",
       "      <th>Line</th>\n",
       "      <th>File</th>\n",
       "    </tr>\n",
       "  </thead>\n",
       "  <tbody>\n",
       "    <tr>\n",
       "      <th>0</th>\n",
       "      <td>aioespnow</td>\n",
       "      <td>AIOESPNow</td>\n",
       "      <td>peer_count</td>\n",
       "      <td>AIOESPNow.peer_count</td>\n",
       "      <td>method</td>\n",
       "      <td>(self, *args, **kwargs)</td>\n",
       "      <td>True</td>\n",
       "      <td>True</td>\n",
       "      <td>0</td>\n",
       "      <td>aioespnow.pyi</td>\n",
       "    </tr>\n",
       "    <tr>\n",
       "      <th>1</th>\n",
       "      <td>aioespnow</td>\n",
       "      <td>AIOESPNow</td>\n",
       "      <td>recv</td>\n",
       "      <td>AIOESPNow.recv</td>\n",
       "      <td>method</td>\n",
       "      <td>(self, *args, **kwargs)</td>\n",
       "      <td>True</td>\n",
       "      <td>True</td>\n",
       "      <td>0</td>\n",
       "      <td>aioespnow.pyi</td>\n",
       "    </tr>\n",
       "    <tr>\n",
       "      <th>2</th>\n",
       "      <td>aioespnow</td>\n",
       "      <td>AIOESPNow</td>\n",
       "      <td>mod_peer</td>\n",
       "      <td>AIOESPNow.mod_peer</td>\n",
       "      <td>method</td>\n",
       "      <td>(self, *args, **kwargs)</td>\n",
       "      <td>True</td>\n",
       "      <td>True</td>\n",
       "      <td>0</td>\n",
       "      <td>aioespnow.pyi</td>\n",
       "    </tr>\n",
       "    <tr>\n",
       "      <th>3</th>\n",
       "      <td>aioespnow</td>\n",
       "      <td>AIOESPNow</td>\n",
       "      <td>irecv</td>\n",
       "      <td>AIOESPNow.irecv</td>\n",
       "      <td>method</td>\n",
       "      <td>(self, *args, **kwargs)</td>\n",
       "      <td>True</td>\n",
       "      <td>True</td>\n",
       "      <td>0</td>\n",
       "      <td>aioespnow.pyi</td>\n",
       "    </tr>\n",
       "    <tr>\n",
       "      <th>4</th>\n",
       "      <td>aioespnow</td>\n",
       "      <td>AIOESPNow</td>\n",
       "      <td>stats</td>\n",
       "      <td>AIOESPNow.stats</td>\n",
       "      <td>method</td>\n",
       "      <td>(self, *args, **kwargs)</td>\n",
       "      <td>True</td>\n",
       "      <td>True</td>\n",
       "      <td>0</td>\n",
       "      <td>aioespnow.pyi</td>\n",
       "    </tr>\n",
       "  </tbody>\n",
       "</table>\n",
       "</div>"
      ],
      "text/plain": [
       "      Module      Class    Function             Full Name    Type  \\\n",
       "0  aioespnow  AIOESPNow  peer_count  AIOESPNow.peer_count  method   \n",
       "1  aioespnow  AIOESPNow        recv        AIOESPNow.recv  method   \n",
       "2  aioespnow  AIOESPNow    mod_peer    AIOESPNow.mod_peer  method   \n",
       "3  aioespnow  AIOESPNow       irecv       AIOESPNow.irecv  method   \n",
       "4  aioespnow  AIOESPNow       stats       AIOESPNow.stats  method   \n",
       "\n",
       "                 Signature  Has *args  Has **kwargs  Line           File  \n",
       "0  (self, *args, **kwargs)       True          True     0  aioespnow.pyi  \n",
       "1  (self, *args, **kwargs)       True          True     0  aioespnow.pyi  \n",
       "2  (self, *args, **kwargs)       True          True     0  aioespnow.pyi  \n",
       "3  (self, *args, **kwargs)       True          True     0  aioespnow.pyi  \n",
       "4  (self, *args, **kwargs)       True          True     0  aioespnow.pyi  "
      ]
     },
     "execution_count": 26,
     "metadata": {},
     "output_type": "execute_result"
    }
   ],
   "source": [
    "# Display detailed results\n",
    "import pandas as pd\n",
    "from collections import defaultdict\n",
    "\n",
    "# Convert results to a more readable format\n",
    "results_data = []\n",
    "for func_info in enhanced_results:\n",
    "    full_name = func_info.function_name\n",
    "    if func_info.class_context:\n",
    "        full_name = f\"{func_info.class_context}.{func_info.function_name}\"\n",
    "\n",
    "    results_data.append(\n",
    "        {\n",
    "            \"Module\": func_info.module_name,\n",
    "            \"Class\": func_info.class_context or \"\",\n",
    "            \"Function\": func_info.function_name,\n",
    "            \"Full Name\": full_name,\n",
    "            \"Type\": func_info.function_type,\n",
    "            \"Signature\": func_info.signature,\n",
    "            \"Has *args\": func_info.has_args,\n",
    "            \"Has **kwargs\": func_info.has_kwargs,\n",
    "            \"Line\": func_info.line_number,\n",
    "            \"File\": func_info.filename.name,\n",
    "        }\n",
    "    )\n",
    "\n",
    "# Create DataFrame for easier analysis\n",
    "df = pd.DataFrame(results_data)\n",
    "df.head()"
   ]
  },
  {
   "cell_type": "code",
   "execution_count": 35,
   "metadata": {},
   "outputs": [
    {
     "name": "stdout",
     "output_type": "stream",
     "text": [
      "Total functions with both *args and **kwargs: 2350\n",
      "Unique function names with both *args and **kwargs: 416\n",
      "\n",
      "Most common function names with both *args and **kwargs:\n",
      "sha256.digest                           : 24\n",
      "sha256.update                           : 24\n",
      "dht_readinto                            : 24\n",
      "sha1.update                             : 20\n",
      "sha1.digest                             : 20\n",
      "reset                                   : 18\n",
      "const                                   : 17\n",
      "isenabled                               : 12\n",
      "FrameBuffer.fill_rect                   : 12\n",
      "SoftSPI.init                            : 12\n",
      "\n",
      "Modules with most functions using both *args and **kwargs:\n",
      "machine                  : 382 functions\n",
      "vfs                      : 264 functions\n",
      "ucollections             : 144 functions\n",
      "onewire                  : 132 functions\n",
      "dht                      :  96 functions\n",
      "urandom                  :  77 functions\n",
      "aioespnow                :  76 functions\n",
      "_onewire                 :  72 functions\n",
      "_thread                  :  72 functions\n",
      "ds18x20                  :  66 functions\n"
     ]
    }
   ],
   "source": [
    "# Filter dataframe for entries with both *args and **kwargs\n",
    "df2 = df[(df['Has *args'] == True) & (df['Has **kwargs'] == True)]\n",
    "\n",
    "# Count unique function full names\n",
    "unique_fullnames = df2['Full Name'].nunique()\n",
    "print(f\"Total functions with both *args and **kwargs: {len(df2)}\")\n",
    "print(f\"Unique function names with both *args and **kwargs: {unique_fullnames}\")\n",
    "\n",
    "# Show the most common function names\n",
    "print(\"\\nMost common function names with both *args and **kwargs:\")\n",
    "fullname_counts = df2['Full Name'].value_counts().head(10)\n",
    "for name, count in fullname_counts.items():\n",
    "    print(f\"{name:<40}: {count}\")\n",
    "\n",
    "# Analyze by module\n",
    "print(\"\\nModules with most functions using both *args and **kwargs:\")\n",
    "module_counts = df2['Module'].value_counts().head(10)\n",
    "for module, count in module_counts.items():\n",
    "    print(f\"{module:<25}: {count:>3} functions\")\n"
   ]
  },
  {
   "cell_type": "code",
   "execution_count": null,
   "metadata": {},
   "outputs": [],
   "source": [
    "\n",
    "# Display summary\n",
    "print(\"=== SUMMARY ===\")\n",
    "print(f\"Total functions/methods found: {len(df)}\")\n",
    "print(f\"Functions (top-level): {len(df[df['Type'] == 'function'])}\")\n",
    "print(f\"Methods (in classes): {len(df[df['Type'] == 'method'])}\")\n",
    "print(f\"With *args only: {len(df[(df['Has *args'] == True) & (df['Has **kwargs'] == False)])}\")\n",
    "print(f\"With **kwargs only: {len(df[(df['Has *args'] == False) & (df['Has **kwargs'] == True)])}\")\n",
    "print(f\"With both *args and **kwargs: {len(df[(df['Has *args'] == True) & (df['Has **kwargs'] == True)])}\")\n",
    "\n",
    "print(\"\\n=== TOP 10 MODULES BY COUNT ===\")\n",
    "module_counts = df[\"Module\"].value_counts().head(10)\n",
    "for module, count in module_counts.items():\n",
    "    print(f\"{module:<25}: {count:>3} functions/methods\")\n",
    "\n",
    "print(\"\\n=== SAMPLE DETAILED RESULTS ===\")\n",
    "print(df[[\"Module\", \"Full Name\", \"Type\", \"Signature\", \"Line\"]].head(10).to_string(index=False))"
   ]
  },
  {
   "cell_type": "code",
   "execution_count": 22,
   "metadata": {},
   "outputs": [
    {
     "data": {
      "text/plain": [
       "<bound method NDFrame.head of          Module      Class    Function             Full Name      Type  \\\n",
       "0     aioespnow  AIOESPNow  peer_count  AIOESPNow.peer_count    method   \n",
       "1     aioespnow  AIOESPNow        recv        AIOESPNow.recv    method   \n",
       "2     aioespnow  AIOESPNow    mod_peer    AIOESPNow.mod_peer    method   \n",
       "3     aioespnow  AIOESPNow       irecv       AIOESPNow.irecv    method   \n",
       "4     aioespnow  AIOESPNow       stats       AIOESPNow.stats    method   \n",
       "...         ...        ...         ...                   ...       ...   \n",
       "2654   _onewire              writebyte             writebyte  function   \n",
       "2655   _onewire               writebit              writebit  function   \n",
       "2656   _onewire                   crc8                  crc8  function   \n",
       "2657   _onewire               readbyte              readbyte  function   \n",
       "2658   _onewire                readbit               readbit  function   \n",
       "\n",
       "                    Signature  Has *args  Has **kwargs  Line           File  \n",
       "0     (self, *args, **kwargs)       True          True     0  aioespnow.pyi  \n",
       "1     (self, *args, **kwargs)       True          True     0  aioespnow.pyi  \n",
       "2     (self, *args, **kwargs)       True          True     0  aioespnow.pyi  \n",
       "3     (self, *args, **kwargs)       True          True     0  aioespnow.pyi  \n",
       "4     (self, *args, **kwargs)       True          True     0  aioespnow.pyi  \n",
       "...                       ...        ...           ...   ...            ...  \n",
       "2654        (*args, **kwargs)       True          True     0   _onewire.pyi  \n",
       "2655        (*args, **kwargs)       True          True     0   _onewire.pyi  \n",
       "2656        (*args, **kwargs)       True          True     0   _onewire.pyi  \n",
       "2657        (*args, **kwargs)       True          True     0   _onewire.pyi  \n",
       "2658        (*args, **kwargs)       True          True     0   _onewire.pyi  \n",
       "\n",
       "[2659 rows x 10 columns]>"
      ]
     },
     "execution_count": 22,
     "metadata": {},
     "output_type": "execute_result"
    }
   ],
   "source": [
    "df.head"
   ]
  },
  {
   "cell_type": "code",
   "execution_count": null,
   "metadata": {
    "vscode": {
     "languageId": "julia"
    }
   },
   "outputs": [],
   "source": [
    "# # Count occurrences of each full method/function name\n",
    "# fullname_counts = df['Full Name'].value_counts()\n",
    "\n",
    "# # Create a DataFrame from the Series\n",
    "# fullname_df = pd.DataFrame({\n",
    "#     'Full Name': fullname_counts.index,\n",
    "#     'Count': fullname_counts.values\n",
    "# })\n",
    "\n",
    "# # Sort by count in descending order\n",
    "# fullname_df = fullname_df.sort_values('Count', ascending=False)\n",
    "\n",
    "# # Display the top 20 results\n",
    "# print(f\"Total unique method/function names: {len(fullname_df)}\")\n",
    "# print(\"\\nTop 20 most common methods/functions with *args, **kwargs:\")\n",
    "# fullname_df.head(20)\n"
   ]
  },
  {
   "cell_type": "code",
   "execution_count": 23,
   "metadata": {},
   "outputs": [
    {
     "data": {
      "application/vnd.microsoft.datawrangler.viewer.v0+json": {
       "columns": [
        {
         "name": "Full Name",
         "rawType": "object",
         "type": "string"
        },
        {
         "name": "count",
         "rawType": "int64",
         "type": "integer"
        }
       ],
       "ref": "fc65d279-a297-4024-9baa-3a204384c3aa",
       "rows": [
        [
         "ADCBlock.connect",
         "36"
        ],
        [
         "sha256.digest",
         "24"
        ],
        [
         "sha256.update",
         "24"
        ],
        [
         "dht_readinto",
         "24"
        ],
        [
         "sha1.digest",
         "20"
        ],
        [
         "sha1.update",
         "20"
        ],
        [
         "reset",
         "18"
        ],
        [
         "const",
         "17"
        ],
        [
         "AbstractNIC.connect",
         "16"
        ],
        [
         "DHT11.__init__",
         "12"
        ],
        [
         "isenabled",
         "12"
        ],
        [
         "heappush",
         "12"
        ],
        [
         "FrameBuffer1",
         "12"
        ],
        [
         "OneWire.reset",
         "12"
        ],
        [
         "FrameBuffer.fill_rect",
         "12"
        ],
        [
         "heappop",
         "12"
        ],
        [
         "sha256.__init__",
         "12"
        ],
        [
         "OneWire.crc8",
         "12"
        ],
        [
         "OneWire.readinto",
         "12"
        ],
        [
         "OneWire.readbyte",
         "12"
        ],
        [
         "OneWire.__init__",
         "12"
        ],
        [
         "OneWire.select_rom",
         "12"
        ],
        [
         "OneWire.writebit",
         "12"
        ],
        [
         "OneWire.writebyte",
         "12"
        ],
        [
         "OneWire.write",
         "12"
        ],
        [
         "websocket.readline",
         "12"
        ],
        [
         "websocket.ioctl",
         "12"
        ],
        [
         "OneWire._search_rom",
         "12"
        ],
        [
         "heapify",
         "12"
        ],
        [
         "Pin.board.__init__",
         "12"
        ],
        [
         "OneWire.scan",
         "12"
        ],
        [
         "writebyte",
         "12"
        ],
        [
         "writebit",
         "12"
        ],
        [
         "OrderedDict.get",
         "12"
        ],
        [
         "OrderedDict.items",
         "12"
        ],
        [
         "OrderedDict.popitem",
         "12"
        ],
        [
         "OrderedDict.pop",
         "12"
        ],
        [
         "OneWire.readbit",
         "12"
        ],
        [
         "OrderedDict.keys",
         "12"
        ],
        [
         "readbit",
         "12"
        ],
        [
         "readbyte",
         "12"
        ],
        [
         "SoftI2C.readfrom",
         "12"
        ],
        [
         "SoftI2C.readinto",
         "12"
        ],
        [
         "SoftI2C.readfrom_mem",
         "12"
        ],
        [
         "SoftI2C.readfrom_into",
         "12"
        ],
        [
         "SoftI2C.write",
         "12"
        ],
        [
         "SoftI2C.readfrom_mem_into",
         "12"
        ],
        [
         "SoftI2C.stop",
         "12"
        ],
        [
         "SoftSPI.deinit",
         "12"
        ],
        [
         "SoftSPI.write_readinto",
         "12"
        ]
       ],
       "shape": {
        "columns": 1,
        "rows": 459
       }
      },
      "text/plain": [
       "Full Name\n",
       "ADCBlock.connect     36\n",
       "sha256.digest        24\n",
       "sha256.update        24\n",
       "dht_readinto         24\n",
       "sha1.digest          20\n",
       "                     ..\n",
       "SDCard.power          1\n",
       "SDCard.present        1\n",
       "SDCard.readblocks     1\n",
       "SDCard.read           1\n",
       "SDCard.write          1\n",
       "Name: count, Length: 459, dtype: int64"
      ]
     },
     "execution_count": 23,
     "metadata": {},
     "output_type": "execute_result"
    }
   ],
   "source": [
    "df[\"Full Name\"].value_counts()"
   ]
  },
  {
   "cell_type": "code",
   "execution_count": 24,
   "metadata": {},
   "outputs": [
    {
     "name": "stdout",
     "output_type": "stream",
     "text": [
      "Exported to CSV: enhanced_undoc_functions.csv\n",
      "Exported detailed text file: enhanced_undoc_functions.txt\n",
      "Exported JSON file: enhanced_undoc_functions.json\n"
     ]
    }
   ],
   "source": [
    "# Export detailed results to files\n",
    "output_dir = Path(\".\")\n",
    "\n",
    "# Export to CSV for data analysis\n",
    "csv_file = output_dir / \"enhanced_undoc_functions.csv\"\n",
    "df.to_csv(csv_file, index=False)\n",
    "print(f\"Exported to CSV: {csv_file}\")\n",
    "\n",
    "# Export to detailed text file\n",
    "txt_file = output_dir / \"enhanced_undoc_functions.txt\"\n",
    "with open(txt_file, \"w\", encoding=\"utf-8\") as f:\n",
    "    f.write(\"FUNCTIONS AND METHODS WITH *ARGS, **KWARGS\\n\")\n",
    "    f.write(\"=\" * 50 + \"\\n\\n\")\n",
    "\n",
    "    # Group by module\n",
    "    grouped = defaultdict(list)\n",
    "    for func_info in enhanced_results:\n",
    "        grouped[func_info.module_name].append(func_info)\n",
    "\n",
    "    for module_name in sorted(grouped.keys()):\n",
    "        functions = grouped[module_name]\n",
    "        f.write(f\"MODULE: {module_name} ({len(functions)} functions/methods)\\n\")\n",
    "        f.write(\"-\" * (len(module_name) + 20) + \"\\n\")\n",
    "\n",
    "        for func_info in sorted(functions, key=lambda x: (x.class_context or \"\", x.function_name)):\n",
    "            location = f\"{func_info.filename.name}:{func_info.line_number}\"\n",
    "\n",
    "            if func_info.class_context:\n",
    "                full_name = f\"{func_info.class_context}.{func_info.function_name}\"\n",
    "                f.write(f\"  • {func_info.function_type.upper()}: {full_name}{func_info.signature}\\n\")\n",
    "            else:\n",
    "                f.write(f\"  • {func_info.function_type.upper()}: {func_info.function_name}{func_info.signature}\\n\")\n",
    "\n",
    "            f.write(f\"    Location: {location}\\n\")\n",
    "\n",
    "            # Show what type of generic parameters it has\n",
    "            params = []\n",
    "            if func_info.has_args:\n",
    "                params.append(\"*args\")\n",
    "            if func_info.has_kwargs:\n",
    "                params.append(\"**kwargs\")\n",
    "            f.write(f\"    Parameters: {', '.join(params)}\\n\\n\")\n",
    "\n",
    "        f.write(\"\\n\")\n",
    "\n",
    "print(f\"Exported detailed text file: {txt_file}\")\n",
    "\n",
    "# Export JSON for programmatic use\n",
    "import json\n",
    "\n",
    "json_file = output_dir / \"enhanced_undoc_functions.json\"\n",
    "json_data = []\n",
    "for func_info in enhanced_results:\n",
    "    json_data.append(\n",
    "        {\n",
    "            \"filename\": str(func_info.filename),\n",
    "            \"line_number\": func_info.line_number,\n",
    "            \"module_name\": func_info.module_name,\n",
    "            \"class_context\": func_info.class_context,\n",
    "            \"function_name\": func_info.function_name,\n",
    "            \"function_type\": func_info.function_type,\n",
    "            \"signature\": func_info.signature,\n",
    "            \"has_args\": func_info.has_args,\n",
    "            \"has_kwargs\": func_info.has_kwargs,\n",
    "        }\n",
    "    )\n",
    "\n",
    "with open(json_file, \"w\", encoding=\"utf-8\") as f:\n",
    "    json.dump(json_data, f, indent=2)\n",
    "\n",
    "print(f\"Exported JSON file: {json_file}\")"
   ]
  }
 ],
 "metadata": {
  "kernelspec": {
   "display_name": "micropython-stubs",
   "language": "python",
   "name": "python3"
  },
  "language_info": {
   "codemirror_mode": {
    "name": "ipython",
    "version": 3
   },
   "file_extension": ".py",
   "mimetype": "text/x-python",
   "name": "python",
   "nbconvert_exporter": "python",
   "pygments_lexer": "ipython3",
   "version": "3.13.1"
  },
  "orig_nbformat": 4
 },
 "nbformat": 4,
 "nbformat_minor": 2
}

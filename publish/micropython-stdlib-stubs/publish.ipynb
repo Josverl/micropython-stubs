{
 "cells": [
  {
   "cell_type": "markdown",
   "metadata": {},
   "source": [
    "Publish micropython-stdlib-stubs to PyPI-test and pypi.\n",
    "\n",
    "Requires uv 0.5.26 or later.\n",
    "\n",
    "Manual steps:\n",
    "- Build \n",
    "- use uv publish to publish to PyPI-test\n",
    "\n"
   ]
  },
  {
   "cell_type": "code",
   "execution_count": 3,
   "metadata": {
    "vscode": {
     "languageId": "shellscript"
    }
   },
   "outputs": [],
   "source": [
    "if  False: \n",
    "    testpypi_token = \"pypi-taken-to-store\n",
    "\n",
    "    import keyring\n",
    "\n",
    "    # Set the token in the keyring\n",
    "    keyring.set_password('testpypi', 'uv_publish', testpypi_token)"
   ]
  },
  {
   "cell_type": "code",
   "execution_count": null,
   "metadata": {},
   "outputs": [],
   "source": [
    "import keyring\n",
    "\n",
    "# Get the token from the keyring\n",
    "retrieved_token = keyring.get_password(\"testpypi\", \"uv_publish\")\n"
   ]
  },
  {
   "cell_type": "code",
   "execution_count": null,
   "metadata": {
    "vscode": {
     "languageId": "shellscript"
    }
   },
   "outputs": [
    {
     "name": "stderr",
     "output_type": "stream",
     "text": [
      "\u001b[1mBuilding wheel...\u001b[0m\n",
      "Successfully built \u001b[36m\u001b[1mdist\\micropython_stdlib_stubs-1.24.1-py3-none-any.whl\u001b[0m\u001b[39m\n"
     ]
    }
   ],
   "source": [
    "!uv build --wheel --index-strategy unsafe-best-match \n"
   ]
  },
  {
   "cell_type": "code",
   "execution_count": 12,
   "metadata": {
    "vscode": {
     "languageId": "shellscript"
    }
   },
   "outputs": [
    {
     "name": "stderr",
     "output_type": "stream",
     "text": [
      "\u001b[1m\u001b[33mwarning\u001b[39m\u001b[0m\u001b[1m:\u001b[0m \u001b[1m`uv publish` is experimental and may change without warning\u001b[0m\n",
      "Publishing 2 files https://test.pypi.org/legacy/\n",
      "File micropython_stdlib_stubs-1.24.1-py3-none-any.whl already exists, skipping\n",
      "\u001b[32m\u001b[1mUploading\u001b[0m\u001b[39m micropython_stdlib_stubs-1.24.1.tar.gz \u001b[2m(118.5KiB)\u001b[0m\n"
     ]
    }
   ],
   "source": [
    "\n",
    "!uv publish --token={testpypi_token} --index testpypi "
   ]
  },
  {
   "cell_type": "code",
   "execution_count": 3,
   "metadata": {},
   "outputs": [
    {
     "name": "stdout",
     "output_type": "stream",
     "text": [
      "No token found in keyring\n"
     ]
    }
   ],
   "source": [
    "import keyring\n",
    "\n",
    "# Get the token from the keyring\n",
    "retrieved_token = keyring.get_password(\"pypi\", \"uv_publish\")\n",
    "if not retrieved_token:\n",
    "    print(\"No token found in keyring\")\n",
    "    exit(1)\n"
   ]
  }
 ],
 "metadata": {
  "kernelspec": {
   "display_name": ".venv",
   "language": "python",
   "name": "python3"
  },
  "language_info": {
   "codemirror_mode": {
    "name": "ipython",
    "version": 3
   },
   "file_extension": ".py",
   "mimetype": "text/x-python",
   "name": "python",
   "nbconvert_exporter": "python",
   "pygments_lexer": "ipython3",
   "version": "3.11.9"
  }
 },
 "nbformat": 4,
 "nbformat_minor": 2
}

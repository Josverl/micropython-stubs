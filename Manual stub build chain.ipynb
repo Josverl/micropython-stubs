{
 "cells": [
  {
   "cell_type": "code",
   "execution_count": null,
   "metadata": {},
   "outputs": [],
   "source": [
    "# --------------------------------------------------------------------------\n",
    "# In order to run, this script needs the following 3rd party libraries\n",
    "# /// script\n",
    "# requires-python = \">=3.8\"\n",
    "# dependencies = [\n",
    "#   \"stubber>=1.24.0\",\n",
    "# ]\n",
    "# ///\n",
    "# PEP723: https://peps.python.org/pep-0723/\n",
    "# --------------------------------------------------------------------------"
   ]
  },
  {
   "cell_type": "code",
   "execution_count": null,
   "metadata": {},
   "outputs": [],
   "source": [
    "import shutil\n",
    "from pathlib import Path\n",
    "from typing import Optional\n",
    "\n",
    "\n",
    "# version = \"v1.23.0\"\n",
    "# version = \"v1.24.1\"\n",
    "# version = \"preview\"\n",
    "version = \"stable\"\n",
    "\n",
    "# merge / build\n",
    "# fmt: off\n",
    "port = \"rp2\" ; board = \"RPI_PICO_W\" \n",
    "port = \"esp32\" ; board = \"ESP32_GENERIC\"\n",
    "port = \"esp32\" ; board = \"all\"\n",
    "port = \"all\" ; board = \"all\"\n",
    "# fmt: on\n",
    "\n",
    "if version == \"preview\":\n",
    "    flat_version = \"v1_27_0_preview\"\n",
    "else:\n",
    "    flat_version = version.replace(\".\", \"_\")\n",
    "\n",
    "docstubs = Path(f\"stubs/micropython-{flat_version}-docstubs\")\n",
    "reference = Path(\"reference/micropython\")\n"
   ]
  },
  {
   "cell_type": "code",
   "execution_count": null,
   "metadata": {},
   "outputs": [],
   "source": [
    "!stubber switch {version}"
   ]
  },
  {
   "cell_type": "code",
   "execution_count": null,
   "metadata": {},
   "outputs": [],
   "source": [
    "# ! cd d:\\mypython\\micropython-stubber\n",
    "!stubber -VVV docstubs --enrich \n"
   ]
  },
  {
   "cell_type": "code",
   "execution_count": null,
   "metadata": {},
   "outputs": [],
   "source": [
    "import os\n",
    "\n",
    "cwd = os.getcwd()\n",
    "os.chdir(\"./publish/micropython-stdlib-stubs\")\n",
    "\n",
    "%run build.py\n",
    "\n",
    "os.chdir(cwd)"
   ]
  },
  {
   "cell_type": "code",
   "execution_count": null,
   "metadata": {},
   "outputs": [],
   "source": [
    "!stubber frozen --version {version} --enrich"
   ]
  },
  {
   "cell_type": "code",
   "execution_count": null,
   "metadata": {},
   "outputs": [],
   "source": [
    "!stubber merge  --port {port} --board {board} --version {version}\n"
   ]
  },
  {
   "cell_type": "code",
   "execution_count": null,
   "metadata": {},
   "outputs": [],
   "source": [
    "# enrich the pyscript module\n",
    "if 0:\n",
    "    ! stubber enrich --source reference/pyscript --dest stubs/micropython-{flat_version}-webassembly-GENERIC-merged   --copy-params   --copy-docstr"
   ]
  },
  {
   "cell_type": "code",
   "execution_count": null,
   "metadata": {},
   "outputs": [],
   "source": [
    "!stubber build  --port {port} --board {board}  --version {version}\n"
   ]
  },
  {
   "cell_type": "code",
   "execution_count": null,
   "metadata": {},
   "outputs": [],
   "source": [
    "if 0:\n",
    "    !stubber publish --port {port} --board {board}  --version {version}"
   ]
  },
  {
   "cell_type": "code",
   "execution_count": null,
   "metadata": {},
   "outputs": [],
   "source": [
    "# version = \"v1.24.1\"\n",
    "\n",
    "# !stubber merge  --port esp32 --version {version}\n",
    "# !stubber build  --port esp32 --version {version}\n",
    "# !stubber merge  --port esp32 --board ESP32_GENERIC  --version {version}\n",
    "# !stubber merge  --port rp2   --board RPI_PICO_W     --version {version}\n",
    "# !stubber build  --port esp32 --board ESP32_GENERIC  --version {version}\n",
    "# !stubber build  --port rp2   --board RPI_PICO_W     --version {version}\n"
   ]
  },
  {
   "cell_type": "code",
   "execution_count": null,
   "metadata": {},
   "outputs": [],
   "source": [
    "# invalidate the cached stubs to force a reload for testing\n",
    "import shutil\n",
    "\n",
    "shutil.rmtree(\".pytest_cache/\", ignore_errors=True)\n",
    "shutil.rmtree(\"repos/micropython-stubs/.pytest_cache/\", ignore_errors=True)\n",
    "shutil.rmtree(\"repos/micropython-stubs/tests/quality_tests/.pytest_cache\", ignore_errors=True)"
   ]
  },
  {
   "cell_type": "code",
   "execution_count": 1,
   "metadata": {},
   "outputs": [
    {
     "name": "stdout",
     "output_type": "stream",
     "text": [
      "22:04:18 | ℹ️ micropython-stubber 1.26.3\n",
      "22:04:18 | ℹ️ Publish micropython ['v1.25.0'] ['webassembly'] ['GENERIC'] to \n",
      "pypi\n",
      "22:04:19 | ℹ️ Publish: micropython-v1_25_0-webassembly-stubs\n",
      "22:04:22 | ℹ️ Build: micropython-v1_25_0-webassembly-stubs\n",
      "22:04:22 | ℹ️ Found changes to package sources: micropython-webassembly-stubs \n",
      "1.25.0.post1 \n",
      "\n",
      "                                Publish Results                                \n",
      "┌─────────────────┬─────────────────┬──────────────┬───────┬──────────────────┐\n",
      "│ result          │ name            │ version      │ error │ path             │\n",
      "├─────────────────┼─────────────────┼──────────────┼───────┼──────────────────┤\n",
      "│ Published to    │ micropython-we… │ 1.25.0.post1 │ None  │ publish/micropy… │\n",
      "│ PyPi            │                 │              │       │                  │\n",
      "└─────────────────┴─────────────────┴──────────────┴───────┴──────────────────┘\n"
     ]
    },
    {
     "name": "stderr",
     "output_type": "stream",
     "text": [
      "Using virtualenv: D:\\mypython\\micropython-stubs\\.venv\n",
      " - Uploading micropython_webassembly_stubs-1.25.0.post1-py2.py3-none-any.whl 0%\n",
      " - Uploading micropython_webassembly_stubs-1.25.0.post1-py2.py3-none-any.whl 18%\n",
      " - Uploading micropython_webassembly_stubs-1.25.0.post1-py2.py3-none-any.whl 100% - Uploading micropython_webassembly_stubs-1.25.0.post1.tar.gz 0%\n",
      " - Uploading micropython_webassembly_stubs-1.25.0.post1.tar.gz 100%\n"
     ]
    },
    {
     "name": "stdout",
     "output_type": "stream",
     "text": [
      "22:04:33 | ℹ️ micropython-stubber 1.26.3\n",
      "22:04:33 | ℹ️ Publish micropython ['v1.25.0'] ['unix'] ['GENERIC'] to pypi\n",
      "22:04:35 | ℹ️ Publish: micropython-v1_25_0-unix-stubs\n",
      "22:04:37 | ℹ️ Build: micropython-v1_25_0-unix-stubs\n",
      "22:04:37 | ℹ️ Found changes to package sources: micropython-unix-stubs \n",
      "1.25.0.post1 \n",
      "\n",
      "                                Publish Results                                \n",
      "┌─────────────────┬─────────────────┬──────────────┬───────┬──────────────────┐\n",
      "│ result          │ name            │ version      │ error │ path             │\n",
      "├─────────────────┼─────────────────┼──────────────┼───────┼──────────────────┤\n",
      "│ Published to    │ micropython-un… │ 1.25.0.post1 │ None  │ publish/micropy… │\n",
      "│ PyPi            │                 │              │       │                  │\n",
      "└─────────────────┴─────────────────┴──────────────┴───────┴──────────────────┘\n"
     ]
    },
    {
     "name": "stderr",
     "output_type": "stream",
     "text": [
      "Using virtualenv: D:\\mypython\\micropython-stubs\\.venv\n",
      " - Uploading micropython_unix_stubs-1.25.0.post1-py2.py3-none-any.whl 0%\n",
      " - Uploading micropython_unix_stubs-1.25.0.post1-py2.py3-none-any.whl 22%\n",
      " - Uploading micropython_unix_stubs-1.25.0.post1-py2.py3-none-any.whl 100% - Uploading micropython_unix_stubs-1.25.0.post1.tar.gz 0%\n",
      " - Uploading micropython_unix_stubs-1.25.0.post1.tar.gz 100%\n"
     ]
    },
    {
     "name": "stdout",
     "output_type": "stream",
     "text": [
      "22:04:48 | ℹ️ micropython-stubber 1.26.3\n",
      "22:04:48 | ℹ️ Publish micropython ['v1.25.0'] ['windows'] ['GENERIC'] to pypi\n",
      "22:04:48 | ℹ️ Publish: micropython-v1_25_0-windows-stubs\n",
      "22:04:50 | ℹ️ Build: micropython-v1_25_0-windows-stubs\n",
      "22:04:50 | ℹ️ Found changes to package sources: micropython-windows-stubs \n",
      "1.25.0.post1 \n",
      "\n",
      "                                Publish Results                                \n",
      "┌─────────────────┬─────────────────┬──────────────┬───────┬──────────────────┐\n",
      "│ result          │ name            │ version      │ error │ path             │\n",
      "├─────────────────┼─────────────────┼──────────────┼───────┼──────────────────┤\n",
      "│ Published to    │ micropython-wi… │ 1.25.0.post1 │ None  │ publish/micropy… │\n",
      "│ PyPi            │                 │              │       │                  │\n",
      "└─────────────────┴─────────────────┴──────────────┴───────┴──────────────────┘\n"
     ]
    },
    {
     "name": "stderr",
     "output_type": "stream",
     "text": [
      "Using virtualenv: D:\\mypython\\micropython-stubs\\.venv\n",
      " - Uploading micropython_windows_stubs-1.25.0.post1-py2.py3-none-any.whl 0%\n",
      " - Uploading micropython_windows_stubs-1.25.0.post1-py2.py3-none-any.whl 31%\n",
      " - Uploading micropython_windows_stubs-1.25.0.post1-py2.py3-none-any.whl 100% - Uploading micropython_windows_stubs-1.25.0.post1.tar.gz 0%\n",
      " - Uploading micropython_windows_stubs-1.25.0.post1.tar.gz 100%\n"
     ]
    },
    {
     "name": "stdout",
     "output_type": "stream",
     "text": [
      "22:05:06 | ℹ️ micropython-stubber 1.26.3\n",
      "22:05:06 | ℹ️ Publish micropython ['v1.26.0'] ['webassembly'] ['GENERIC'] to \n",
      "pypi\n",
      "22:05:07 | ℹ️ Publish: micropython-v1_26_0-webassembly-stubs\n",
      "22:05:09 | ℹ️ Build: micropython-v1_26_0-webassembly-stubs\n",
      "22:05:10 | ℹ️ Found changes to package sources: micropython-webassembly-stubs \n",
      "1.26.0.post1 \n",
      "\n",
      "                                Publish Results                                \n",
      "┌─────────────────┬─────────────────┬──────────────┬───────┬──────────────────┐\n",
      "│ result          │ name            │ version      │ error │ path             │\n",
      "├─────────────────┼─────────────────┼──────────────┼───────┼──────────────────┤\n",
      "│ Published to    │ micropython-we… │ 1.26.0.post1 │ None  │ publish/micropy… │\n",
      "│ PyPi            │                 │              │       │                  │\n",
      "└─────────────────┴─────────────────┴──────────────┴───────┴──────────────────┘\n"
     ]
    },
    {
     "name": "stderr",
     "output_type": "stream",
     "text": [
      "Using virtualenv: D:\\mypython\\micropython-stubs\\.venv\n",
      " - Uploading micropython_webassembly_stubs-1.26.0.post1-py2.py3-none-any.whl 0%\n",
      " - Uploading micropython_webassembly_stubs-1.26.0.post1-py2.py3-none-any.whl 18%\n",
      " - Uploading micropython_webassembly_stubs-1.26.0.post1-py2.py3-none-any.whl 100% - Uploading micropython_webassembly_stubs-1.26.0.post1.tar.gz 0%\n",
      " - Uploading micropython_webassembly_stubs-1.26.0.post1.tar.gz 100%\n"
     ]
    },
    {
     "name": "stdout",
     "output_type": "stream",
     "text": [
      "22:05:23 | ℹ️ micropython-stubber 1.26.3\n",
      "22:05:23 | ℹ️ Publish micropython ['v1.26.0'] ['unix'] ['GENERIC'] to pypi\n",
      "22:05:24 | ℹ️ Publish: micropython-v1_26_0-unix-stubs\n",
      "22:05:26 | ℹ️ Build: micropython-v1_26_0-unix-stubs\n",
      "22:05:26 | ℹ️ Found changes to package sources: micropython-unix-stubs \n",
      "1.26.0.post1 \n",
      "\n",
      "                                Publish Results                                \n",
      "┌─────────────────┬─────────────────┬──────────────┬───────┬──────────────────┐\n",
      "│ result          │ name            │ version      │ error │ path             │\n",
      "├─────────────────┼─────────────────┼──────────────┼───────┼──────────────────┤\n",
      "│ Published to    │ micropython-un… │ 1.26.0.post1 │ None  │ publish/micropy… │\n",
      "│ PyPi            │                 │              │       │                  │\n",
      "└─────────────────┴─────────────────┴──────────────┴───────┴──────────────────┘\n"
     ]
    },
    {
     "name": "stderr",
     "output_type": "stream",
     "text": [
      "Using virtualenv: D:\\mypython\\micropython-stubs\\.venv\n",
      " - Uploading micropython_unix_stubs-1.26.0.post1-py2.py3-none-any.whl 0%\n",
      " - Uploading micropython_unix_stubs-1.26.0.post1-py2.py3-none-any.whl 22%\n",
      " - Uploading micropython_unix_stubs-1.26.0.post1-py2.py3-none-any.whl 100% - Uploading micropython_unix_stubs-1.26.0.post1.tar.gz 0%\n",
      " - Uploading micropython_unix_stubs-1.26.0.post1.tar.gz 100%\n"
     ]
    },
    {
     "name": "stdout",
     "output_type": "stream",
     "text": [
      "22:05:39 | ℹ️ micropython-stubber 1.26.3\n",
      "22:05:39 | ℹ️ Publish micropython ['v1.26.0'] ['windows'] ['GENERIC'] to pypi\n",
      "22:05:39 | ℹ️ Publish: micropython-v1_26_0-windows-stubs\n",
      "22:05:41 | ℹ️ Build: micropython-v1_26_0-windows-stubs\n",
      "22:05:42 | ℹ️ Found changes to package sources: micropython-windows-stubs \n",
      "1.26.0.post1 \n",
      "\n",
      "                                Publish Results                                \n",
      "┌─────────────────┬─────────────────┬──────────────┬───────┬──────────────────┐\n",
      "│ result          │ name            │ version      │ error │ path             │\n",
      "├─────────────────┼─────────────────┼──────────────┼───────┼──────────────────┤\n",
      "│ Published to    │ micropython-wi… │ 1.26.0.post1 │ None  │ publish/micropy… │\n",
      "│ PyPi            │                 │              │       │                  │\n",
      "└─────────────────┴─────────────────┴──────────────┴───────┴──────────────────┘\n"
     ]
    },
    {
     "name": "stderr",
     "output_type": "stream",
     "text": [
      "Using virtualenv: D:\\mypython\\micropython-stubs\\.venv\n",
      " - Uploading micropython_windows_stubs-1.26.0.post1-py2.py3-none-any.whl 0%\n",
      " - Uploading micropython_windows_stubs-1.26.0.post1-py2.py3-none-any.whl 31%\n",
      " - Uploading micropython_windows_stubs-1.26.0.post1-py2.py3-none-any.whl 100% - Uploading micropython_windows_stubs-1.26.0.post1.tar.gz 0%\n",
      " - Uploading micropython_windows_stubs-1.26.0.post1.tar.gz 100%\n"
     ]
    }
   ],
   "source": [
    "for version in [\"v1.25.0\", \"v1.26.0\"]:\n",
    "    for port in [\"webassembly\", \"unix\", \"windows\"]:\n",
    "        # !stubber build --port {port} --version {version}\n",
    "        !stubber publish --port {port} --version {version} --pypi"
   ]
  }
 ],
 "metadata": {
  "kernelspec": {
   "display_name": "micropython-stubs",
   "language": "python",
   "name": "python3"
  },
  "language_info": {
   "codemirror_mode": {
    "name": "ipython",
    "version": 3
   },
   "file_extension": ".py",
   "mimetype": "text/x-python",
   "name": "python",
   "nbconvert_exporter": "python",
   "pygments_lexer": "ipython3",
   "version": "3.13.1"
  }
 },
 "nbformat": 4,
 "nbformat_minor": 2
}

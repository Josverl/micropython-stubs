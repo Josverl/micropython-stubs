{
 "cells": [
  {
   "cell_type": "code",
   "execution_count": 1,
   "metadata": {},
   "outputs": [],
   "source": [
    "import pandas as pd\n",
    "import jinja2 as j2\n",
    "\n",
    "df = pd.read_json(\"../all_modules.json\")"
   ]
  },
  {
   "cell_type": "code",
   "execution_count": 2,
   "metadata": {},
   "outputs": [],
   "source": [
    "# remove the mod_name and pkg_version columns\n",
    "df = df.drop(columns=[\"mod_name\", \"pkg_version\", \"hash\", \"family\"])\n",
    "# keep only unique rows\n",
    "df = df.drop_duplicates()\n",
    "\n",
    "# filter out the highest version\n",
    "df = df[df[\"version\"] != df[\"version\"].max()]\n",
    "\n",
    "# sort by version descending, and  port and board\n",
    "# df = df.sort_values(by=['version', 'port', 'board'], ascending=[False, True, True])"
   ]
  },
  {
   "cell_type": "code",
   "execution_count": 3,
   "metadata": {},
   "outputs": [
    {
     "data": {
      "text/html": [
       "<div>\n",
       "<style scoped>\n",
       "    .dataframe tbody tr th:only-of-type {\n",
       "        vertical-align: middle;\n",
       "    }\n",
       "\n",
       "    .dataframe tbody tr th {\n",
       "        vertical-align: top;\n",
       "    }\n",
       "\n",
       "    .dataframe thead th {\n",
       "        text-align: right;\n",
       "    }\n",
       "</style>\n",
       "<table border=\"1\" class=\"dataframe\">\n",
       "  <thead>\n",
       "    <tr style=\"text-align: right;\">\n",
       "      <th></th>\n",
       "      <th>version</th>\n",
       "      <th>port</th>\n",
       "      <th>board</th>\n",
       "      <th>package</th>\n",
       "    </tr>\n",
       "  </thead>\n",
       "  <tbody>\n",
       "    <tr>\n",
       "      <th>0</th>\n",
       "      <td>1.22.1</td>\n",
       "      <td>esp32</td>\n",
       "      <td>GENERIC</td>\n",
       "      <td>micropython-esp32-stubs</td>\n",
       "    </tr>\n",
       "    <tr>\n",
       "      <th>86</th>\n",
       "      <td>1.23.0</td>\n",
       "      <td>samd</td>\n",
       "      <td>seeed_wio_terminal</td>\n",
       "      <td>micropython-samd-seeed_wio_terminal-stubs</td>\n",
       "    </tr>\n",
       "    <tr>\n",
       "      <th>143</th>\n",
       "      <td>1.22.2</td>\n",
       "      <td>rp2</td>\n",
       "      <td>GENERIC</td>\n",
       "      <td>micropython-rp2-stubs</td>\n",
       "    </tr>\n",
       "    <tr>\n",
       "      <th>207</th>\n",
       "      <td>1.22.2</td>\n",
       "      <td>esp32</td>\n",
       "      <td>esp32_generic_c3</td>\n",
       "      <td>micropython-esp32-esp32_generic_c3-stubs</td>\n",
       "    </tr>\n",
       "    <tr>\n",
       "      <th>292</th>\n",
       "      <td>1.22.2</td>\n",
       "      <td>rp2</td>\n",
       "      <td>rpi_pico_w</td>\n",
       "      <td>micropython-rp2-rpi_pico_w-stubs</td>\n",
       "    </tr>\n",
       "  </tbody>\n",
       "</table>\n",
       "</div>"
      ],
      "text/plain": [
       "    version   port               board  \\\n",
       "0    1.22.1  esp32             GENERIC   \n",
       "86   1.23.0   samd  seeed_wio_terminal   \n",
       "143  1.22.2    rp2             GENERIC   \n",
       "207  1.22.2  esp32    esp32_generic_c3   \n",
       "292  1.22.2    rp2          rpi_pico_w   \n",
       "\n",
       "                                       package  \n",
       "0                      micropython-esp32-stubs  \n",
       "86   micropython-samd-seeed_wio_terminal-stubs  \n",
       "143                      micropython-rp2-stubs  \n",
       "207   micropython-esp32-esp32_generic_c3-stubs  \n",
       "292           micropython-rp2-rpi_pico_w-stubs  "
      ]
     },
     "execution_count": 3,
     "metadata": {},
     "output_type": "execute_result"
    }
   ],
   "source": [
    "df.head()"
   ]
  },
  {
   "cell_type": "code",
   "execution_count": 9,
   "metadata": {
    "vscode": {
     "languageId": "ruby"
    }
   },
   "outputs": [],
   "source": [
    "\n",
    "\n",
    "\n",
    "grouped = df.groupby('version')\n",
    "\n",
    "\n",
    "# create a template environment\n",
    "template_env = j2.Environment(loader=j2.FileSystemLoader('./templates'))\n",
    "# load the template file\n",
    "template = template_env.get_template('module_template.md')\n",
    "\n",
    "\n",
    "# create a list to store the rendered modules\n",
    "rendered_modules = []\n",
    "\n",
    "# iterate over each group in the grouped dataframe\n",
    "for version, group in grouped:\n",
    "    # render the template with the group data\n",
    "    rendered_module = template.render(version=version, modules=group.to_dict(orient='records'))\n",
    "    # append the rendered module to the list\n",
    "    rendered_modules.append(rendered_module)\n",
    "\n",
    "# join the rendered modules into a single string\n",
    "rendered_modules_str = '\\n'.join(rendered_modules)\n",
    "\n",
    "\n",
    "# #display rendered_modules_str as markdown output in jupyter notebook\n",
    "from IPython.display import Markdown\n",
    "Markdown(rendered_modules_str)\n",
    "\n",
    "# save to docs/published_body.md\n",
    "with open('published_body.md', 'w') as file:\n",
    "    file.write(rendered_modules_str)\n",
    "    \n"
   ]
  },
  {
   "cell_type": "code",
   "execution_count": null,
   "metadata": {
    "vscode": {
     "languageId": "ruby"
    }
   },
   "outputs": [],
   "source": []
  }
 ],
 "metadata": {
  "kernelspec": {
   "display_name": ".venv",
   "language": "python",
   "name": "python3"
  },
  "language_info": {
   "codemirror_mode": {
    "name": "ipython",
    "version": 3
   },
   "file_extension": ".py",
   "mimetype": "text/x-python",
   "name": "python",
   "nbconvert_exporter": "python",
   "pygments_lexer": "ipython3",
   "version": "3.11.9"
  }
 },
 "nbformat": 4,
 "nbformat_minor": 2
}

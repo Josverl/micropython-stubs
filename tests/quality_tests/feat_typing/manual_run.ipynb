{
 "cells": [
  {
   "cell_type": "code",
   "execution_count": 1,
   "metadata": {},
   "outputs": [
    {
     "name": "stdout",
     "output_type": "stream",
     "text": [
      "Current Working Directory: c:\\mypython\\micropython-stubs\\tests\\quality_tests\\feat_typing\n"
     ]
    }
   ],
   "source": [
    "import os\n",
    "\n",
    "cwd = os.getcwd()\n",
    "print(\"Current Working Directory:\", cwd)"
   ]
  },
  {
   "cell_type": "code",
   "execution_count": 2,
   "metadata": {},
   "outputs": [
    {
     "name": "stdout",
     "output_type": "stream",
     "text": [
      "sys.path=['/code', '.frozen', '/foo/.micropython/lib', '/usr/lib/micropython']\n",
      "/code\n",
      "- /code/check_anycall.py\n",
      "- /code/check_basics.py\n",
      "- /code/check_no_type_check.py\n",
      "- /code/check_paramtypes.py\n",
      "- /code/list_libs.py\n",
      ".frozen\n",
      "- <not scannable>\n",
      "/foo/.micropython/lib\n",
      "- /foo/.micropython/lib/typing.py\n",
      "/usr/lib/micropython\n",
      "x folder not found [Errno 2] ENOENT\n"
     ]
    }
   ],
   "source": [
    "user = \"foo\"\n",
    "mp_version = \"v1.23.0\"\n",
    "cwd = os.getcwd()\n",
    "\n",
    "! docker run -u 1000 -e HOME=/{user} -v {cwd}:/code -v {cwd}/lib:/{user}/.micropython/lib --rm micropython/unix:{mp_version} micropython list_libs.py\n",
    "\n"
   ]
  },
  {
   "cell_type": "code",
   "execution_count": null,
   "metadata": {},
   "outputs": [
    {
     "name": "stdout",
     "output_type": "stream",
     "text": [
      "running micropython list_libs.py\n",
      "running check_no_type_check.py\n"
     ]
    },
    {
     "name": "stderr",
     "output_type": "stream",
     "text": [
      "micropython: can't open file 'micropython': [Errno 2] No such file or directory\n"
     ]
    },
    {
     "name": "stdout",
     "output_type": "stream",
     "text": [
      "Something is happening before the function is called.\n",
      "foo \n",
      "Something is happening after the function is called.\n",
      "Done.\n"
     ]
    }
   ],
   "source": [
    "user = \"foo\"\n",
    "mp_version = \"v1.23.0\"\n",
    "cwd = os.getcwd()\n",
    "# script = \"list_libs.py\"\n",
    "# script = \"check_anycall.py\"\n",
    "\n",
    "\n",
    "for script in [\n",
    "    \"list_libs.py\",\n",
    "    # \"check_anycall.py\",\n",
    "    #\"check_basics.py\",\n",
    "    \"check_no_type_check.py\",\n",
    "    # \"check_paramtypes.py\",\n",
    "    \n",
    "               ]: \n",
    "    print(f\"running {script}\")\n",
    "    ! docker run -u 1000 -v {cwd}:/code -v {cwd}/lib:/usr/lib/micropython --rm micropython/unix:{mp_version} micropython {script}\n",
    "    # ! docker run -u 1000 -e HOME=/{user} -v {cwd}:/code -v {cwd}/lib:/usr/lib/micropython --rm micropython/unix:{mp_version} micropython {script}\n",
    "\n",
    "\n"
   ]
  },
  {
   "cell_type": "code",
   "execution_count": null,
   "metadata": {},
   "outputs": [],
   "source": [
    "from pathlib import Path\n",
    "\n",
    "HERE = Path(cwd).parent\n",
    "\n",
    "set([f.stem for f in (HERE / \"feat_typing\").glob(\"check_*.py\")])"
   ]
  },
  {
   "cell_type": "code",
   "execution_count": 1,
   "metadata": {},
   "outputs": [
    {
     "data": {
      "text/plain": [
       "['v1.20.0',\n",
       " 'v1.21.0',\n",
       " 'v1.21.1',\n",
       " 'v1.22.0',\n",
       " 'v1.22.1',\n",
       " 'v1.22.2',\n",
       " 'v1.22.2',\n",
       " 'v1.22.2',\n",
       " 'v1.23.1',\n",
       " 'v1.24.0',\n",
       " 'v9.99.9-preview']"
      ]
     },
     "execution_count": 1,
     "metadata": {},
     "output_type": "execute_result"
    }
   ],
   "source": [
    "from mpflash.versions import micropython_versions\n",
    "import sys\n",
    "\n",
    "# Configure VSCode to step into modules when debugging\n",
    "sys.settrace\n",
    "\n",
    "micropython_versions()"
   ]
  }
 ],
 "metadata": {
  "kernelspec": {
   "display_name": ".venv",
   "language": "python",
   "name": "python3"
  },
  "language_info": {
   "codemirror_mode": {
    "name": "ipython",
    "version": 3
   },
   "file_extension": ".py",
   "mimetype": "text/x-python",
   "name": "python",
   "nbconvert_exporter": "python",
   "pygments_lexer": "ipython3",
   "version": "3.12.7"
  }
 },
 "nbformat": 4,
 "nbformat_minor": 2
}

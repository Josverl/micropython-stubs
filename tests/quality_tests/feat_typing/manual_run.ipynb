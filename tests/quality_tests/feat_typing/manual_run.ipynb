{
 "cells": [
  {
   "cell_type": "code",
   "execution_count": 1,
   "metadata": {},
   "outputs": [
    {
     "name": "stdout",
     "output_type": "stream",
     "text": [
      "Current Working Directory: c:\\mypython\\micropython-stubs\\tests\\quality_tests\\feat_typing\n"
     ]
    }
   ],
   "source": [
    "import os\n",
    "\n",
    "cwd = os.getcwd()\n",
    "print(\"Current Working Directory:\", cwd)"
   ]
  },
  {
   "cell_type": "code",
   "execution_count": null,
   "metadata": {},
   "outputs": [
    {
     "name": "stdout",
     "output_type": "stream",
     "text": [
      "running list_libs.py--------------------\n",
      "sys.path=['/code', '.frozen', '//.micropython/lib', '/usr/lib/micropython']\n",
      "/code\n",
      "- /code/check_anycall.py\n",
      "- /code/check_basics.py\n",
      "- /code/check_no_type_check.py\n",
      "- /code/check_paramtypes.py\n",
      "- /code/list_libs.py\n",
      ".frozen\n",
      "- <not scannable>\n",
      "//.micropython/lib\n",
      "x folder not found [Errno 2] ENOENT\n",
      "/usr/lib/micropython\n",
      "- /usr/lib/micropython/typing.py\n",
      "running check_no_type_check.py--------------------\n",
      "Something is happening before the function is called.\n",
      "foo \n",
      "Something is happening after the function is called.\n",
      "Done.\n"
     ]
    }
   ],
   "source": [
    "user = \"foo\"\n",
    "mp_version = \"v1.23.0\"\n",
    "cwd = os.getcwd()\n",
    "# script = \"list_libs.py\"\n",
    "# script = \"check_anycall.py\"\n",
    "\n",
    "\n",
    "for script in [\n",
    "    \"list_libs.py\",\n",
    "    # \"check_anycall.py\",\n",
    "    #\"check_basics.py\",\n",
    "    \"check_no_type_check.py\",\n",
    "    # \"check_paramtypes.py\",\n",
    "               ]: \n",
    "    print(f\"running {script}\" + \"-\"*20)\n",
    "    image = f\"micropython/unix:{mp_version}\"\n",
    "    ! docker run -u 1000 -v {cwd}:/code -v {cwd}/lib:/usr/lib/micropython --rm {image} micropython {script}\n",
    "\n",
    "\n"
   ]
  }
 ],
 "metadata": {
  "kernelspec": {
   "display_name": ".venv",
   "language": "python",
   "name": "python3"
  },
  "language_info": {
   "codemirror_mode": {
    "name": "ipython",
    "version": 3
   },
   "file_extension": ".py",
   "mimetype": "text/x-python",
   "name": "python",
   "nbconvert_exporter": "python",
   "pygments_lexer": "ipython3",
   "version": "3.12.7"
  }
 },
 "nbformat": 4,
 "nbformat_minor": 2
}
